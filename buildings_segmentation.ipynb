{
 "cells": [
  {
   "cell_type": "markdown",
   "metadata": {},
   "source": [
    "# Project Overview\n",
    "\n",
    "\n",
    "### 1. Import Python Packages"
   ]
  },
  {
   "cell_type": "code",
   "execution_count": 4,
   "metadata": {},
   "outputs": [],
   "source": [
    "import natsort\n",
    "from natsort import natsorted\n",
    "from glob import glob"
   ]
  },
  {
   "cell_type": "markdown",
   "metadata": {},
   "source": [
    "### 2. Image Preprocessing\n",
    "#### 2.1 Get Dataset Path"
   ]
  },
  {
   "cell_type": "code",
   "execution_count": 5,
   "metadata": {},
   "outputs": [],
   "source": [
    "def get_filenames():\n",
    "    \"\"\"\n",
    "    This method gets train, val and test image from the dataset repository.\n",
    "    :returns: train, val and test dataset path\n",
    "    \"\"\"\n",
    "    \n",
    "    # images sizes\n",
    "    size = (1400,1400)\n",
    "    \n",
    "    # get training dataset path\n",
    "    train_data_path = list(zip(\n",
    "        natsorted(glob(f'./dataset/train/*.png')),\n",
    "        natsorted(glob(f'./dataset/train_labels/*.png')),\n",
    "    ))\n",
    "    \n",
    "    val_data_path = list(zip(\n",
    "        natsorted(glob(f'./dataset/val/*.png')),\n",
    "        natsorted(glob(f'./dataset/val_labels/*.png')),\n",
    "    ))\n",
    "    \n",
    "    test_data_path = list(zip(\n",
    "        natsorted(glob(f'./dataset/test/*.png')),\n",
    "        natsorted(glob(f'./dataset/test_labels/*.png')),\n",
    "    ))\n",
    "    \n",
    "    return train_data_path, val_data_path, test_data_path"
   ]
  },
  {
   "cell_type": "markdown",
   "metadata": {},
   "source": [
    "#### 2.2 Load IMag"
   ]
  }
 ],
 "metadata": {
  "kernelspec": {
   "display_name": "Python 3",
   "language": "python",
   "name": "python3"
  },
  "language_info": {
   "codemirror_mode": {
    "name": "ipython",
    "version": 3
   },
   "file_extension": ".py",
   "mimetype": "text/x-python",
   "name": "python",
   "nbconvert_exporter": "python",
   "pygments_lexer": "ipython3",
   "version": "3.7.4"
  }
 },
 "nbformat": 4,
 "nbformat_minor": 2
}
