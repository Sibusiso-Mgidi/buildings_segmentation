{
 "cells": [
  {
   "cell_type": "markdown",
   "metadata": {},
   "source": [
    "# Project Overview\n",
    "\n",
    "\n",
    "## 1. Import Python Packages"
   ]
  },
  {
   "cell_type": "code",
   "execution_count": 3,
   "metadata": {},
   "outputs": [],
   "source": [
    "from tensorflow import keras \n",
    "import keras_preprocessing\n",
    "from keras_preprocessing import image\n",
    "import tensorflow as tf\n",
    "import natsort\n",
    "from natsort import natsorted\n",
    "from glob import glob\n",
    "from skimage import img_as_float32\n",
    "import imageio\n",
    "from functools import partial\n",
    "from tqdm import tqdm\n",
    "tqdm = partial(tqdm, position=0, leave=True)\n",
    "import cv2 as cv\n",
    "import numpy as np\n",
    "import os\n",
    "import matplotlib.pyplot as plt"
   ]
  },
  {
   "cell_type": "code",
   "execution_count": 4,
   "metadata": {},
   "outputs": [],
   "source": [
    "# get training images and corresponding masks path\n",
    "TRAIN_DATA_PATH = list(zip(\n",
    "    natsorted(glob(f'./dataset/train/*.png')),\n",
    "    natsorted(glob(f'./dataset/train_labels/*.png')),\n",
    "))\n",
    "\n",
    "VAL_DATA_PATH = list(zip(\n",
    "    natsorted(glob(f'./dataset/val/*.png')),\n",
    "    natsorted(glob(f'./dataset/val_labels/*.png')),\n",
    "))\n",
    "\n",
    "TEST_DATA_PATH= list(zip(\n",
    "    natsorted(glob(f'./dataset/test/*.png')),\n",
    "    natsorted(glob(f'./dataset/test_labels/*.png')),\n",
    "))"
   ]
  },
  {
   "cell_type": "markdown",
   "metadata": {},
   "source": [
    "## 2. Image Preprocessing"
   ]
  },
  {
   "cell_type": "code",
   "execution_count": 29,
   "metadata": {},
   "outputs": [],
   "source": [
    "class ImageProcessing(object):\n",
    "    \"\"\"\n",
    "    This is a blueprint for image processing\n",
    "    \"\"\"\n",
    "    \n",
    "    def __init__(self, IMAGES = None, MASKS = None):\n",
    "        self.SIZE = (512,512)\n",
    "        self.IMAGES = []\n",
    "        self.MASKS = []\n",
    "        \n",
    "    \"\"\"\n",
    "    1.IMAGE PREPROCESSING\n",
    "    \"\"\"\n",
    "    def get_images(self, PATH):\n",
    "        \"\"\"\n",
    "        This method loads and converts images as a color image\n",
    "        :returns: images as numpy array\n",
    "        \"\"\"\n",
    "        \n",
    "        # read all images and store them in an array. \n",
    "        # borrowed from https://realpython.com/storing-images-in-python/\n",
    "        for img_path, _ in tqdm(PATH, \"Loading images\"):\n",
    "            \n",
    "            # load images as float32 and store it in an array\n",
    "            image = img_as_float32(cv.imread(img_path, cv.IMREAD_COLOR))\n",
    "            \n",
    "            # downsample the input image to 512 x 512 x 3\n",
    "            image = cv.resize(image, self.SIZE)\n",
    "            \n",
    "            # convert images to color images since opencv reads images grayscale\n",
    "            image = cv.cvtColor(image, cv.COLOR_BGR2RGB)\n",
    "            \n",
    "            # store all images\n",
    "            self.IMAGES.append(image)\n",
    "            \n",
    "        # convert image to a numpy array\n",
    "        IMGS = np.array(self.IMAGES)\n",
    "        \n",
    "        # check if all images have the same size and color images (RGB with 3 channels)\n",
    "        assert IMGS.shape == (len(self.IMAGES), self.SIZE[0], self.SIZE[1], 3)\n",
    "                \n",
    "        \n",
    "        print('\\n', IMGS[0].shape)\n",
    "        \n",
    "        return IMGS\n",
    "            \n",
    "            \n",
    "    def get_masks(self, PATH):\n",
    "        \"\"\"\n",
    "        This method loads and converts images as a grayscale image\n",
    "        :returns: masks as a numpy array      \n",
    "        \"\"\"\n",
    "        \n",
    "        # read all images and store them in an array. \n",
    "        # borrowed from https://realpython.com/storing-images-in-python/\n",
    "        for _, msk_path  in tqdm(PATH, \"Loading masks\"):\n",
    "            \n",
    "            # load images as float32 and store it in an array\n",
    "            mask = img_as_float32(cv.imread(msk_path, cv.IMREAD_COLOR))\n",
    "            \n",
    "            # downsample the input image to 512 x 512 \n",
    "            mask= cv.resize(mask, self.SIZE)\n",
    "            \n",
    "            # convert masks to grayscale \n",
    "            mask = cv.cvtColor(mask, cv.COLOR_BGR2GRAY)\n",
    "            \n",
    "            # store all masks\n",
    "            self.MASKS.append(mask)\n",
    "            \n",
    "        # convert masks to a numpy array\n",
    "        MSKS = np.array(self.MASKS)\n",
    "        \n",
    "        # check if all masks have the same size\n",
    "        #assert MSKS.shape == (len(self.MASKS), self.SIZE[0], self.SIZE[1])\n",
    "        assert MSKS.shape == (len(self.MASKS), self.SIZE[0], self.SIZE[1])\n",
    "        \n",
    "        # expand the dimensions of the masks\n",
    "        MSKS = np.expand_dims(MSKS, axis=3)\n",
    "        \n",
    "        return MSKS\n",
    "        \n",
    "buildings_segmentation = BuildingsSegmentation()"
   ]
  },
  {
   "cell_type": "code",
   "execution_count": 6,
   "metadata": {},
   "outputs": [
    {
     "name": "stderr",
     "output_type": "stream",
     "text": [
      "Loading images: 100%|██████████| 131/131 [00:08<00:00, 15.46it/s]\n"
     ]
    },
    {
     "name": "stdout",
     "output_type": "stream",
     "text": [
      "\n",
      " (512, 512, 3)\n"
     ]
    }
   ],
   "source": [
    "images = buildings_segmentation.get_images(TRAIN_DATA_PATH)"
   ]
  },
  {
   "cell_type": "code",
   "execution_count": 30,
   "metadata": {},
   "outputs": [
    {
     "name": "stderr",
     "output_type": "stream",
     "text": [
      "Loading masks: 100%|██████████| 131/131 [00:03<00:00, 35.02it/s]\n"
     ]
    }
   ],
   "source": [
    "masks = buildings_segmentation.get_masks(TRAIN_DATA_PATH)"
   ]
  },
  {
   "cell_type": "code",
   "execution_count": null,
   "metadata": {},
   "outputs": [],
   "source": [
    "\n",
    "def visualize_images(images, masks):\n",
    "\n",
    "    plt.figure(figsize=(20,16))\n",
    "    x, y = 6,4\n",
    "\n",
    "    for i in range(y):  \n",
    "        for j in range(x):\n",
    "            # images \n",
    "            plt.subplot(y*2, x, i*2*x+j+1)\n",
    "            pos =  i+j\n",
    "            plt.imshow(images[pos])\n",
    "            plt.title('Image #{}'.format(pos))\n",
    "            plt.axis('off')\n",
    "            plt.subplot(y*2, x, (i*2+1)*x+j+1)\n",
    "            \n",
    "            # display corresponding masks\n",
    "            plt.imshow(np.squeeze(masks[pos]), cmap=\"gray\")\n",
    "            plt.title('Mask #{}'.format(pos))\n",
    "            plt.axis('off')\n",
    "    plt.show()\n",
    "\n",
    "visualize_images(resized_images, resized_masks)"
   ]
  }
 ],
 "metadata": {
  "kernelspec": {
   "display_name": "Python 3",
   "language": "python",
   "name": "python3"
  },
  "language_info": {
   "codemirror_mode": {
    "name": "ipython",
    "version": 3
   },
   "file_extension": ".py",
   "mimetype": "text/x-python",
   "name": "python",
   "nbconvert_exporter": "python",
   "pygments_lexer": "ipython3",
   "version": "3.7.4"
  }
 },
 "nbformat": 4,
 "nbformat_minor": 2
}
